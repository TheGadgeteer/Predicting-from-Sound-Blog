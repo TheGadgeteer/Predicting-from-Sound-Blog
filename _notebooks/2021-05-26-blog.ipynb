{
 "cells": [
  {
   "cell_type": "markdown",
   "metadata": {},
   "source": [
    "# Predicting from Sound\n",
    "> A Neural Networks project by Aleksander Nikolajev, Kayahan Kaya and Severin Brunner\n",
    "\n",
    "- toc: true \n",
    "- badges: true\n",
    "- comments: true\n",
    "- categories: [jupyter]\n",
    "- sticky_rank: 1"
   ]
  },
  {
   "cell_type": "markdown",
   "metadata": {},
   "source": [
    "## Introduction\n",
    "The objective of this project is to find ways of obtaining information from sounds using neural networks. Examples of such information include the source of a sound as well as the distance of the source to the microphone.\n",
    "To approach the detection of the sound source, we are constructing a neural network based on a submission {% fn 1 %}\n",
    "to the [Freesound General-Purpose Audio Tagging Challenge](https://www.kaggle.com/c/freesound-audio-tagging/overview), a competition with the goal of classifying audio files from a wide range of real-world environments."
   ]
  },
  {
   "cell_type": "markdown",
   "metadata": {},
   "source": [
    "## The Dataset\n",
    "\n",
    "As a dataset for testing and training, we are using the one provided for the 2018 Kaggle Freesound competition, which is downloadable [here](https://www.kaggle.com/c/freesound-audio-tagging/data).\n",
    "It contains sounds from 41 different categories such as trumpet or fireworks, with 9473 training examples and 1600 test examples. However the samples aren't distributed uniformly over the categories, meaning there's more data for some categories than for others. Also, the amount of manually verified samples varies from category to category.  This might cause the training to become more challenging.\n",
    "\n",
    "![](kaggle_dataset_distribution.png \"The dataset. As it can be seen, only a part of the samples has been manually verified (blue). The amount of samples and the fraction of manually verified samples per category varies between the categories.\")"
   ]
  },
  {
   "cell_type": "markdown",
   "metadata": {},
   "source": [
    "\n",
    "## Audio theory\n",
    "In this section, essential theoretical elements of audio analysis are introduced.\n",
    "\n",
    "### Pulse-code modulation (PCM)\n",
    "In order to store an analog audio signal in memory, it has to be digitized by applying sampling and quantization. Sampling refers to measuring the signal values in specific timestep, which produces a time-discrete signal from an time-continuous signal. Quantization means mapping the continuous signal values to discrete values in a specific range, e.g. 16 bits.\n",
    "\n",
    "![](https://upload.wikimedia.org/wikipedia/commons/thumb/b/bf/Pcm.svg/1024px-Pcm.svg.png \"Sampling and quantization of an analog signal (red) with 4-bit PCM, resulting in a time-discrete and value-discrete signal (blue) it can be seen, only a part of the samples has been manually verified (blue).{% f\")\n",
    "\n",
    "PCM is a format that stores uncompressed audio signals by simply storing an array of values that have been produced by sampling and quantizing an analog signal. It has two basic properties:  The sampling rate (how many samples per second were taken) and the bit depth (how many bits each sample value has), which determines the resolution. The data and sampling rate can be read from an audio file with scipy as follows:\n",
    "\n"
   ]
  },
  {
   "cell_type": "code",
   "execution_count": null,
   "metadata": {},
   "outputs": [],
   "source": [
    "import matplotlib.pyplot as plt\n",
    "from scipy.io import wavfile\n",
    "\n",
    "rate, data = wavfile.read('audiofile.wav')\n",
    "print(\"Sampling rate:\", rate)\n",
    "# data is in numpy int16 array format\n",
    "print(\"Data:\", data)\n",
    "plt.plot(data)"
   ]
  },
  {
   "cell_type": "markdown",
   "metadata": {},
   "source": [
    "### Spectograms\n",
    "\n",
    "A spectrogram is a visualiziaton of the frequency spectrum of a signal over time.\n",
    "\n",
    "### MFCC\n"
   ]
  },
  {
   "cell_type": "markdown",
   "metadata": {},
   "source": [
    "## Creating the network\n",
    "\n",
    "We are using Keras as the deep learning library to construct our network.\n",
    "\n"
   ]
  },
  {
   "cell_type": "markdown",
   "metadata": {},
   "source": [
    "### Network input\n",
    "\n",
    "A major design decision is in which format the input audio signal will be fed to the network. \n",
    "Theoretically, raw array is possible\n",
    "\n",
    "Creating a spectogram and feeding it as image\n",
    "\n",
    "Using MFCC"
   ]
  },
  {
   "cell_type": "markdown",
   "metadata": {},
   "source": [
    "Librosa is a library with several functions to extract features from audio data, which we will be using to preprocess the network input."
   ]
  },
  {
   "cell_type": "markdown",
   "metadata": {},
   "source": [
    "#hide \n",
    "TODO: Explain the different approaches to network input, architectures etc."
   ]
  },
  {
   "cell_type": "code",
   "execution_count": null,
   "metadata": {},
   "outputs": [],
   "source": [
    "import librosa\n",
    "import numpy as np\n",
    "import scipy\n",
    "from keras import losses, models, optimizers\n",
    "from keras.activations import relu, softmax\n",
    "from keras.callbacks import (EarlyStopping, LearningRateScheduler,\n",
    "                             ModelCheckpoint, TensorBoard, ReduceLROnPlateau)\n",
    "from keras.layers import (Convolution1D, Dense, Dropout, GlobalAveragePooling1D, \n",
    "                          GlobalMaxPool1D, Input, MaxPool1D, concatenate)\n",
    "from keras.utils import Sequence, to_categorical"
   ]
  },
  {
   "cell_type": "markdown",
   "metadata": {},
   "source": [
    "Another crucial preprocessing step is normalization, for which we will be using this function:"
   ]
  },
  {
   "cell_type": "code",
   "execution_count": 10,
   "metadata": {},
   "outputs": [],
   "source": [
    "def audio_norm(data):\n",
    "    max_data = np.max(data)\n",
    "    min_data = np.min(data)\n",
    "    data = (data-min_data)/(max_data-min_data+1e-6)\n",
    "    return data-0.5"
   ]
  },
  {
   "cell_type": "markdown",
   "metadata": {},
   "source": [
    "At this point we must decide in which format we will provide the network input. The dataset samples are given as raw audio data files, which could be directly used as input. However this has several disadvantages, one of them being the extensive memory usage. Loading the entire dataset into memory might exceed our capacities. A so-called data generator can provide relief. It loads the samples one by one in real-time during training and testing instead of using the naive approach of loading all samples at once. The code for such a data generator can be found at https://stanford.edu/~shervine/blog/keras-how-to-generate-data-on-the-fly. \n",
    "\n",
    "Still, computations on large data are more time-consuming, especially when they are loaded into memory on-the-fly like it is the case for a data generator. A better idea might be to extract features from the raw audio files and use these as input. This essentially compresses the input, which makes the use of a data generator unnecessary and greatly accelerates the training process.  "
   ]
  },
  {
   "cell_type": "markdown",
   "metadata": {},
   "source": [
    "Therefore as a processing step, we are extracting so-called MFCC audio features from our input data using the Librosa library. The MFCC data are created one by one for each sample and stored in a variable X. This process is quite time-consuming. After it is done, we finally normalize the generated input data."
   ]
  },
  {
   "cell_type": "code",
   "execution_count": null,
   "metadata": {},
   "outputs": [],
   "source": [
    "#hide\n",
    "# This is how MFCC looks like for a single file:\n",
    "SAMPLE_RATE = 44100\n",
    "fname = 'drive/MyDrive/datasets/FSDKaggle2018.audio_train/' + '00044347.wav'   # Hi-hat\n",
    "wav, _ = librosa.core.load(fname, sr=SAMPLE_RATE)\n",
    "wav = wav[:2*44100]\n",
    "mfcc = librosa.feature.mfcc(wav, sr = SAMPLE_RATE, n_mfcc=40)\n",
    "\n",
    "plt.imshow(mfcc, cmap='hot', interpolation='nearest');\n",
    "# TODO: include image"
   ]
  },
  {
   "cell_type": "code",
   "execution_count": null,
   "metadata": {},
   "outputs": [],
   "source": [
    "def prepare_data(df, data_dir):\n",
    "    dim = (n_mfcc, 1+(int(np.floor(audio_length/512))), 1)\n",
    "    \n",
    "    X = np.empty(shape=(df.shape[0], dim[0], dim[1], 1))\n",
    "    input_length = audio_length\n",
    "    #create librosa file\n",
    "    for i, fname in enumerate(df.index):\n",
    "        file_path = data_dir + fname\n",
    "        data, _ = librosa.core.load(file_path, sr=sampling_rate, res_type=\"kaiser_fast\")\n",
    "\n",
    "        # Random offset / Padding\n",
    "        if len(data) > input_length:\n",
    "            max_offset = len(data) - input_length\n",
    "            offset = np.random.randint(max_offset)\n",
    "            data = data[offset:(input_length+offset)]\n",
    "        else:\n",
    "            if input_length > len(data):\n",
    "                max_offset = input_length - len(data)\n",
    "                offset = np.random.randint(max_offset)\n",
    "            else:\n",
    "                offset = 0\n",
    "            data = np.pad(data, (offset, input_length - len(data) - offset), \"constant\")\n",
    "        #extract mfcc features\n",
    "        data = librosa.feature.mfcc(data, sr=sampling_rate, n_mfcc=n_mfcc)\n",
    "        data = np.expand_dims(data, axis=-1)\n",
    "        #save them and do it for each file, return X\n",
    "        X[i,] = data\n",
    "    return X"
   ]
  },
  {
   "cell_type": "code",
   "execution_count": null,
   "metadata": {},
   "outputs": [],
   "source": [
    "X_train = prepare_data(train, 'drive/MyDrive/datasets/FSDKaggle2018.audio_train/')\n",
    "X_test = prepare_data(test, 'drive/MyDrive/datasets/FSDKaggle2018.audio_test/')\n",
    "#TODO: what does to_catego\n",
    "y_train = to_categorical(train.label_idx, num_classes=n_classes)\n",
    "\n",
    "# normalize the data using the mean and deviation from the training set\n",
    "mean = np.mean(X_train, axis=0)\n",
    "std = np.std(X_train, axis=0)\n",
    "X_train = (X_train - mean)/std\n",
    "X_test = (X_test - mean)/std"
   ]
  },
  {
   "cell_type": "markdown",
   "metadata": {},
   "source": [
    "Now, we build our network model. \n",
    "The model starts with a convolutional layer followed by ReLU activation and a maxpool layer. Batch normalization is applied by inserting the corresponding layer before the activation function. \n",
    "This structure is repeated 3 more times, then the model ends with a fully connected layer of size 64 with batch normalization. The final output is given by a softmax layer which produces a probability distribution over the 41 classes.\n",
    "\n",
    "As a loss function, we use cross entropy, and the Adam optimizer is used for training."
   ]
  },
  {
   "cell_type": "code",
   "execution_count": 19,
   "metadata": {},
   "outputs": [],
   "source": [
    "# Some parameters regarding the audio and network configuration\n",
    "sampling_rate=16000\n",
    "audio_duration=2\n",
    "n_classes=41\n",
    "n_folds_=10\n",
    "learning_rate=0.0001\n",
    "max_epochs=50\n",
    "n_mfcc=20\n",
    "audio_length = sampling_rate * audio_duration\n",
    "dim = (audio_length, 1)\n",
    "batch_size=64\n",
    "\n",
    "# Generating and compiling the model\n",
    "def getModel():\n",
    "    input_length = audio_length\n",
    "\n",
    "    inp = Input(shape=(dim[0], dim[1],1))\n",
    "    x = Convolution2D(32, (4,10), padding=\"same\")(inp)\n",
    "    x = BatchNormalization()(x)\n",
    "    x = Activation(\"relu\")(x)\n",
    "    x = MaxPool2D()(x)\n",
    "    \n",
    "    x = Convolution2D(32, (4,10), padding=\"same\")(x)\n",
    "    x = BatchNormalization()(x)\n",
    "    x = Activation(\"relu\")(x)\n",
    "    x = MaxPool2D()(x)\n",
    "    \n",
    "    x = Convolution2D(32, (4,10), padding=\"same\")(x)\n",
    "    x = BatchNormalization()(x)\n",
    "    x = Activation(\"relu\")(x)\n",
    "    x = MaxPool2D()(x)\n",
    "    \n",
    "    x = Convolution2D(32, (4,10), padding=\"same\")(x)\n",
    "    x = BatchNormalization()(x)\n",
    "    x = Activation(\"relu\")(x)\n",
    "    x = MaxPool2D()(x)\n",
    "\n",
    "    x = Flatten()(x)\n",
    "    x = Dense(64)(x)\n",
    "    x = BatchNormalization()(x)\n",
    "    x = Activation(\"relu\")(x)\n",
    "    out = Dense(n_classes, activation=softmax)(x)\n",
    "\n",
    "    model = models.Model(inputs=inp, outputs=out)\n",
    "    opt = optimizers.Adam(learning_rate)\n",
    "\n",
    "    model.compile(optimizer=opt, loss=losses.categorical_crossentropy, metrics=['acc'])\n",
    "    return model"
   ]
  },
  {
   "cell_type": "markdown",
   "metadata": {},
   "source": [
    "To prepare the output, we are converting the raw labels to integer indices and are setting the filename as the index for the train and test data:"
   ]
  },
  {
   "cell_type": "code",
   "execution_count": null,
   "metadata": {},
   "outputs": [],
   "source": [
    "# create a dictionary that maps integers to labels\n",
    "LABELS = list(train.label.unique())\n",
    "label_idx = {label: i for i, label in enumerate(LABELS)}\n",
    "\n",
    "# set the index row for train and test to the name of the file\n",
    "train.set_index(\"fname\", inplace=True)\n",
    "test.set_index(\"fname\", inplace=True)\n",
    "\n",
    "train[\"label_idx\"] = train.label.apply(lambda x: label_idx[x])\n"
   ]
  },
  {
   "cell_type": "markdown",
   "metadata": {},
   "source": [
    "Finally, we are training the network using KFold, which is a cross-validator that splits the data in train sets and test sets. For this, it divides the entire dataset in K folds. During training, one of these folds is used once for validation, whereas the other k-1 folds are used as a training set."
   ]
  },
  {
   "cell_type": "code",
   "execution_count": null,
   "metadata": {},
   "outputs": [],
   "source": [
    "from sklearn.model_selection import KFold\n",
    "\n",
    "kf = KFold(n_splits=2)\n",
    "for i, (train_index, test_index) in enumerate(kf.split(X_train)):\n",
    "  X_t, X_te = X_train[train_index], X_train[test_index]\n",
    "  y_t, y_te = y_train[train_index], y_train[test_index]\n",
    "  print(\"#\"*50)\n",
    "  print(\"Fold: \", i)\n",
    "  model = getModel()\n",
    "  checkpoint = ModelCheckpoint('best_%d.h5'%i, monitor='val_loss', verbose=1, save_best_only=True)\n",
    "  early = EarlyStopping(monitor=\"val_loss\", mode=\"min\", patience=5)\n",
    "  tb = TensorBoard(log_dir='./logs/' + PREDICTION_FOLDER + '/fold_%i'%i, write_graph=True)\n",
    "  callbacks_list = [checkpoint, early, tb]\n",
    "  history = model.fit(X_t, y_t, validation_data=(X_te, y_te), callbacks=callbacks_list, \n",
    "                        batch_size=64, epochs=30)\n",
    "  model.load_weights('best_%d.h5'%i)\n",
    "  predictions = model.predict(X_train, batch_size=64, verbose=1)\n",
    "  np.save(PREDICTION_FOLDER + \"/train_predictions_%d.npy\"%i, predictions)\n",
    "\n",
    "  predictions = model.predict(X_test, batch_size=64, verbose=1)\n",
    "  np.save(PREDICTION_FOLDER + \"/test_predictions_%d.npy\"%i, predictions)\n",
    "\n",
    "  top_3 = np.array(LABELS)[np.argsort(-predictions, axis=1)[:, :3]]\n",
    "  predicted_labels = [' '.join(list(x)) for x in top_3]\n",
    "  test['label'] = predicted_labels\n",
    "  test[['label']].to_csv(PREDICTION_FOLDER + \"/predictions_%d.csv\"%i)"
   ]
  },
  {
   "cell_type": "markdown",
   "metadata": {},
   "source": [
    "## Results and Conclusion\n",
    "Training for 30 epochs results in a promising training accuracy of around 90%. However the network currently shows strong overfitting, as the accuracy on the validation set barely reaches 40%. \n",
    "Further investigation is needed in order to find ways to reduce this massive gap. \n",
    "\n",
    "Future work includes exploring other ways to obtain information from sounds, for example predicting the distance from a sound source given a sound sample."
   ]
  },
  {
   "cell_type": "markdown",
   "metadata": {},
   "source": [
    "## References\n",
    "\n",
    "{{ 'https://www.kaggle.com/fizzbuzz/beginner-s-guide-to-audio-data/' | fndetail: 1}}"
   ]
  },
  {
   "cell_type": "markdown",
   "metadata": {},
   "source": []
  }
 ],
 "metadata": {
  "kernelspec": {
   "display_name": "Python 3",
   "language": "python",
   "name": "python3"
  },
  "language_info": {
   "codemirror_mode": {
    "name": "ipython",
    "version": 3
   },
   "file_extension": ".py",
   "mimetype": "text/x-python",
   "name": "python",
   "nbconvert_exporter": "python",
   "pygments_lexer": "ipython3",
   "version": "3.7.6"
  },
  "varInspector": {
   "cols": {
    "lenName": 16,
    "lenType": 16,
    "lenVar": 40
   },
   "kernels_config": {
    "python": {
     "delete_cmd_postfix": "",
     "delete_cmd_prefix": "del ",
     "library": "var_list.py",
     "varRefreshCmd": "print(var_dic_list())"
    },
    "r": {
     "delete_cmd_postfix": ") ",
     "delete_cmd_prefix": "rm(",
     "library": "var_list.r",
     "varRefreshCmd": "cat(var_dic_list()) "
    }
   },
   "types_to_exclude": [
    "module",
    "function",
    "builtin_function_or_method",
    "instance",
    "_Feature"
   ],
   "window_display": false
  }
 },
 "nbformat": 4,
 "nbformat_minor": 4
}
